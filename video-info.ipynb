{
 "cells": [
  {
   "cell_type": "code",
   "execution_count": 2,
   "metadata": {},
   "outputs": [],
   "source": [
    "import requests\n",
    "import json\n",
    "#from typing import Tuple\n",
    "import time\n",
    "import random\n",
    "from login import Login\n",
    "import pandas as pd\n",
    "import tqdm\n",
    "\n",
    "headers = {\n",
    "    'User-Agent': 'Mozilla/5.0 (Windows NT 10.0; Win64; x64) AppleWebKit/537.36 (KHTML, like Gecko) Chrome/107.0.0.0 Safari/ 537.36 Edg/107.0.1418.62'\n",
    "}\n"
   ]
  },
  {
   "cell_type": "code",
   "execution_count": 5,
   "metadata": {},
   "outputs": [
    {
     "data": {
      "text/plain": [
       "830"
      ]
     },
     "execution_count": 5,
     "metadata": {},
     "output_type": "execute_result"
    }
   ],
   "source": [
    "with open('following.json', 'r') as f:\n",
    "    following_list = json.loads(f.read())\n",
    "len(following_list)"
   ]
  },
  {
   "cell_type": "code",
   "execution_count": 7,
   "metadata": {},
   "outputs": [
    {
     "name": "stdout",
     "output_type": "stream",
     "text": [
      "█████████████████████████████████████████████████████\n",
      "█████████████████████████████████████████████████████\n",
      "████ ▄▄▄▄▄ ██▀█▀▄ ▄▄▀▄▀ █▄█▀▀▄▀ █ ▄  ██▀▄█ ▄▄▄▄▄ ████\n",
      "████ █   █ █  ▀▀▄ ▄▀█▄ █▀▀▀▀▄▄▀▄▄▄ ▀▄▄█ ▀█ █   █ ████\n",
      "████ █▄▄▄█ █ ▄██▀ ▄▄▄ █▄ ▄▄▄  ▀▀▀█▄▄█▀▄▄▄█ █▄▄▄█ ████\n",
      "████▄▄▄▄▄▄▄█ █▄█▄▀▄▀ █▄▀ █▄█ ▀ ▀ ▀ █ ▀▄█ █▄▄▄▄▄▄▄████\n",
      "████ █▄▄▄ ▄▀▀▄       ▄▀   ▄▄ ▀███   ▀▄█▀▀█▄▄   ▀▀████\n",
      "████▄▄▄█ █▄ ▀ █ ▀█▄▄█ ▀▄█ █▀ ▀   ▄▀▀  ▄▄▀▄▄▄▀▄ ▄█████\n",
      "████▄█▀▄▀▄▄▄▄▄█▄█▄█▀ █▄▄██  ██▄▀▀ ▀▄▀█▄ ▀██ ▀▀▀▀ ████\n",
      "████▄▀ ▀ ▄▄ █▀█ ▄█▄█ ▄▄▄▄▄ ▀ █▄█▀█▀█▀█ ▄ ▀▄▀▀▀ █▀████\n",
      "████▄ █▀ ▄▄ █▀ ▄ ▄▄█▄▄▄▀▄ ▀█▄▀▄▄█▀▀▄██▄ ▀▀▄▄██▀█▀████\n",
      "████▄ ▄  █▄ ▄ ▀ █▀█▄█▄▄▀▄▀█ ▄█▄▀▀ ██▀▄▄ █ ▄▄▀   █████\n",
      "████▄ ▀▄ ▄▄▄ ▀ █▀▀▀▀ ▀▄▀ ▄▄▄ ▀▄█▀ ▀▄█ █  ▄▄▄ ▀▀▀ ████\n",
      "████ ▀   █▄█ ▄▀ ▀▀█▄▀▀   █▄█ █ ▀▀██▄▀▀▄█ █▄█ ▀ ██████\n",
      "████ ▀ ▀ ▄▄▄▄▀▀  █▄▀█▀ ▀   ▄  █▀▀▄  ▀██▀ ▄▄▄▄ ██ ████\n",
      "████▄██▄▄▀▄ ▄██ █ ▀█▄  ▀▄▀ ▀▀▀  ▀ ▀  ▀▄▀▄▀▀ █  ▄█████\n",
      "████▀  ▀▀▀▄   ▄▄▄▀ █▀█ █▀▄▀▄▄ ▄▄▀   ▀█▄▀ █ █▄▀▀▄▀████\n",
      "████  █▄ █▄ ▄▀█▄▄▀▀██ ▀ ▀▄▀▄▀▄▄ ▀▀▀  █▄▀▄█▀ █▄ ▄█████\n",
      "████▀ ▀  █▄▀▀▀█ █ ▀ ▀▄█ ▀▄▀ ▄ ▄▀██  ▀▄██   ▀▄ ▀█▀████\n",
      "█████▀▀▀ █▄ ▄▄▄▀▄▀ ██ ▄█▄▄█▄▀▀  ▀▀█▀▀  ▀  ▀▀▀▄ ▄█████\n",
      "████▄██▄▄█▄█ ▄▀██ █ ▀█▄▄ ▄▄▄  ▄█▀▀ ██▀█▀ ▄▄▄  ▀█ ████\n",
      "████ ▄▄▄▄▄ █▀ ▄▄▀ ▀ ▄ ▄  █▄█ █▄▀ ▀█▀█▀▄  █▄█ ▀  ▀████\n",
      "████ █   █ █ ▄▀▀███▀▀ █▀  ▄  ▀▄▀▀▄  ██▄ ▄▄▄▄ ▄▀  ████\n",
      "████ █▄▄▄█ █▄ ▄ ▀▄█▀▀  ▄ █▀▄▄█▄▀ ▄▀▄▀▀▄█▄ █▄█  ▄█████\n",
      "████▄▄▄▄▄▄▄█▄█▄▄▄████▄▄▄█▄▄▄▄▄▄████▄█▄█▄▄▄▄█▄▄█▄█████\n",
      "█████████████████████████████████████████████████████\n",
      "▀▀▀▀▀▀▀▀▀▀▀▀▀▀▀▀▀▀▀▀▀▀▀▀▀▀▀▀▀▀▀▀▀▀▀▀▀▀▀▀▀▀▀▀▀▀▀▀▀▀▀▀▀\n",
      "登录成功\n"
     ]
    }
   ],
   "source": [
    "login = Login()\n",
    "url, token = login.apply_QR_code()\n",
    "login.generate_QR_code(url)\n",
    "input('已扫码')\n",
    "bilibili_session = requests.Session()\n",
    "code = login.do_web_login(bilibili_session, token)\n",
    "if code == 0:\n",
    "    print('登录成功')\n",
    "elif code == 86038:\n",
    "    print('二维码失效')\n",
    "elif code == 86090 or code == 86101:\n",
    "    print('请扫码并确认')\n",
    "else:\n",
    "    print(f'错误，code:{code}')\n"
   ]
  },
  {
   "cell_type": "code",
   "execution_count": 4,
   "metadata": {},
   "outputs": [],
   "source": [
    "# Login before\n",
    "\n",
    "def get_up_stat(session: requests.Session, mid: int) -> dict:\n",
    "    info = {}\n",
    "    res = session.get(url='https://api.bilibili.com/x/space/upstat',\n",
    "                      headers=headers, params={'mid': mid})\n",
    "    res = json.loads(res.text)\n",
    "    data = res['data']\n",
    "    view = data['archive']['view']\n",
    "    likes = data['likes']\n",
    "    info['view'] = view\n",
    "    info['likes'] = likes\n",
    "    return info\n"
   ]
  },
  {
   "cell_type": "code",
   "execution_count": 47,
   "metadata": {},
   "outputs": [
    {
     "data": {
      "text/plain": [
       "{'view': 185145410, 'likes': 8263343}"
      ]
     },
     "execution_count": 47,
     "metadata": {},
     "output_type": "execute_result"
    }
   ],
   "source": [
    "get_up_stat(bilibili_session, 258150656)\n"
   ]
  },
  {
   "cell_type": "code",
   "execution_count": 103,
   "metadata": {},
   "outputs": [
    {
     "data": {
      "text/plain": [
       "{'total': 258,\n",
       " 'fields_count': {'动画': 214, '舞蹈': 6, '资讯': 1, '音乐': 30, '游戏': 7},\n",
       " 'newest': '2022-12-12',\n",
       " 'oldest': '2020-12-14'}"
      ]
     },
     "execution_count": 103,
     "metadata": {},
     "output_type": "execute_result"
    }
   ],
   "source": [
    "def get_up_videos(mid: int) -> dict:\n",
    "    while True:\n",
    "        res = requests.get(url='http://api.bilibili.com/x/space/arc/search',\n",
    "                           headers=headers, params={'mid': mid, 'pn': 1, 'ps': 1})\n",
    "        res = json.loads(res.text)\n",
    "        data = res['data']\n",
    "        code = res['code']\n",
    "        if code == 0:\n",
    "            break\n",
    "        time.sleep(random.randint(1, 3))\n",
    "    total = data['page']['count']\n",
    "\n",
    "    if total != 0:\n",
    "        fields = data['list']['tlist']\n",
    "        fields_count = {value['name']: value['count']\n",
    "                        for value in fields.values()}\n",
    "        newest = data['list']['vlist'][0]['created']\n",
    "        newest = time.strftime('%Y-%m-%d', time.localtime(newest))\n",
    "        page = total // 51 + 1\n",
    "        while True:\n",
    "            res = requests.get(url='http://api.bilibili.com/x/space/arc/search',\n",
    "                               headers=headers, params={'mid': mid, 'pn': page, 'ps': 50})\n",
    "            res = json.loads(res.text)\n",
    "            code = res['code']\n",
    "            if code == 0:\n",
    "                break\n",
    "            time.sleep(random.randint(1, 3))\n",
    "        data = res['data']\n",
    "        oldest = data['list']['vlist'][-1]['created']\n",
    "        oldest = time.strftime('%Y-%m-%d', time.localtime(oldest))\n",
    "    else:\n",
    "        fields_count = {'无': 0}\n",
    "        newest = '1970-1-1'\n",
    "        oldest = '1970-1-1'\n",
    "\n",
    "    info = {\n",
    "        'total': total,\n",
    "        'fields_count': fields_count,\n",
    "        'newest': newest,\n",
    "        'oldest': oldest\n",
    "    }\n",
    "    return info\n",
    "\n",
    "\n",
    "get_up_videos(258150656)\n",
    "get_up_videos(672328094)\n"
   ]
  },
  {
   "cell_type": "code",
   "execution_count": 30,
   "metadata": {},
   "outputs": [
    {
     "data": {
      "text/html": [
       "<div>\n",
       "<style scoped>\n",
       "    .dataframe tbody tr th:only-of-type {\n",
       "        vertical-align: middle;\n",
       "    }\n",
       "\n",
       "    .dataframe tbody tr th {\n",
       "        vertical-align: top;\n",
       "    }\n",
       "\n",
       "    .dataframe thead th {\n",
       "        text-align: right;\n",
       "    }\n",
       "</style>\n",
       "<table border=\"1\" class=\"dataframe\">\n",
       "  <thead>\n",
       "    <tr style=\"text-align: right;\">\n",
       "      <th></th>\n",
       "      <th>名称</th>\n",
       "      <th>UID</th>\n",
       "      <th>关注时间</th>\n",
       "      <th>特别关注</th>\n",
       "      <th>头像链接</th>\n",
       "      <th>粉丝数</th>\n",
       "      <th>主页</th>\n",
       "    </tr>\n",
       "  </thead>\n",
       "  <tbody>\n",
       "    <tr>\n",
       "      <th>0</th>\n",
       "      <td>-小拉-</td>\n",
       "      <td>41759</td>\n",
       "      <td>2022-12-08</td>\n",
       "      <td>否</td>\n",
       "      <td>https://i2.hdslb.com/bfs/face/ce83957d60ce9800...</td>\n",
       "      <td>286680</td>\n",
       "      <td>https://space.bilibili.com/41759</td>\n",
       "    </tr>\n",
       "    <tr>\n",
       "      <th>1</th>\n",
       "      <td>Biloneness</td>\n",
       "      <td>399763875</td>\n",
       "      <td>2022-12-07</td>\n",
       "      <td>否</td>\n",
       "      <td>http://i0.hdslb.com/bfs/face/70e5621d3ca80fe1e...</td>\n",
       "      <td>12</td>\n",
       "      <td>https://space.bilibili.com/399763875</td>\n",
       "    </tr>\n",
       "    <tr>\n",
       "      <th>2</th>\n",
       "      <td>无极恋画</td>\n",
       "      <td>102541434</td>\n",
       "      <td>2022-12-06</td>\n",
       "      <td>否</td>\n",
       "      <td>https://i0.hdslb.com/bfs/face/8297704cd928e35a...</td>\n",
       "      <td>86914</td>\n",
       "      <td>https://space.bilibili.com/102541434</td>\n",
       "    </tr>\n",
       "    <tr>\n",
       "      <th>3</th>\n",
       "      <td>修理铺韩师傅</td>\n",
       "      <td>381801980</td>\n",
       "      <td>2022-12-06</td>\n",
       "      <td>否</td>\n",
       "      <td>https://i2.hdslb.com/bfs/face/6dcffadade0fd367...</td>\n",
       "      <td>13897</td>\n",
       "      <td>https://space.bilibili.com/381801980</td>\n",
       "    </tr>\n",
       "    <tr>\n",
       "      <th>4</th>\n",
       "      <td>VitoShen涤非</td>\n",
       "      <td>3493075427002798</td>\n",
       "      <td>2022-12-06</td>\n",
       "      <td>是</td>\n",
       "      <td>https://i1.hdslb.com/bfs/face/e8c393b710c5bd1c...</td>\n",
       "      <td>639</td>\n",
       "      <td>https://space.bilibili.com/3493075427002798</td>\n",
       "    </tr>\n",
       "  </tbody>\n",
       "</table>\n",
       "</div>"
      ],
      "text/plain": [
       "           名称               UID        关注时间 特别关注  \\\n",
       "0        -小拉-             41759  2022-12-08    否   \n",
       "1  Biloneness         399763875  2022-12-07    否   \n",
       "2        无极恋画         102541434  2022-12-06    否   \n",
       "3      修理铺韩师傅         381801980  2022-12-06    否   \n",
       "4  VitoShen涤非  3493075427002798  2022-12-06    是   \n",
       "\n",
       "                                                头像链接     粉丝数  \\\n",
       "0  https://i2.hdslb.com/bfs/face/ce83957d60ce9800...  286680   \n",
       "1  http://i0.hdslb.com/bfs/face/70e5621d3ca80fe1e...      12   \n",
       "2  https://i0.hdslb.com/bfs/face/8297704cd928e35a...   86914   \n",
       "3  https://i2.hdslb.com/bfs/face/6dcffadade0fd367...   13897   \n",
       "4  https://i1.hdslb.com/bfs/face/e8c393b710c5bd1c...     639   \n",
       "\n",
       "                                            主页  \n",
       "0             https://space.bilibili.com/41759  \n",
       "1         https://space.bilibili.com/399763875  \n",
       "2         https://space.bilibili.com/102541434  \n",
       "3         https://space.bilibili.com/381801980  \n",
       "4  https://space.bilibili.com/3493075427002798  "
      ]
     },
     "execution_count": 30,
     "metadata": {},
     "output_type": "execute_result"
    }
   ],
   "source": [
    "df = pd.read_csv('./following-results.csv')\n",
    "df = df.iloc[:, 1:]\n",
    "df.head()\n"
   ]
  },
  {
   "cell_type": "code",
   "execution_count": 106,
   "metadata": {},
   "outputs": [
    {
     "name": "stderr",
     "output_type": "stream",
     "text": [
      "100%|██████████| 830/830 [48:04<00:00,  3.48s/it]\n"
     ]
    }
   ],
   "source": [
    "view = []\n",
    "likes = []\n",
    "fields = []\n",
    "newest = []\n",
    "oldest = []\n",
    "total = []\n",
    "for mid in tqdm.tqdm(df['UID']):\n",
    "    upstat = get_up_stat(bilibili_session, mid)\n",
    "    view.append(upstat['view'])\n",
    "    likes.append(upstat['likes'])\n",
    "    time.sleep(random.randint(1, 2))\n",
    "    video_info = get_up_videos(mid)\n",
    "    newest.append(video_info['newest'])\n",
    "    oldest.append(video_info['oldest'])\n",
    "    total.append(video_info['total'])\n",
    "    fields_count = video_info['fields_count']\n",
    "    # use the first two fields with the largest video number, regardless of the same\n",
    "    if len(fields_count) > 1:\n",
    "        main_fields = sorted(fields_count.items(),\n",
    "                             key=lambda x: x[1], reverse=True)[0:2]\n",
    "        first_field = main_fields[0][0]\n",
    "        if main_fields[1][1] / video_info['total'] >= 0.33:\n",
    "            second_field = main_fields[1][0]\n",
    "        else:\n",
    "            second_field = ''\n",
    "    else:\n",
    "        first_field = sorted(fields_count.items(),\n",
    "                             key=lambda x: x[1], reverse=True)[0][0]\n",
    "        second_field = ''\n",
    "    if second_field != '':\n",
    "        fields.append(first_field+','+second_field)\n",
    "    else:\n",
    "        fields.append(first_field)\n",
    "    time.sleep(random.randint(1, 2))\n"
   ]
  },
  {
   "cell_type": "code",
   "execution_count": 107,
   "metadata": {},
   "outputs": [
    {
     "data": {
      "text/plain": [
       "(830, ['生活', '生活', '知识', '生活', '科技', '舞蹈,动画', '知识', '生活', '游戏', '游戏'])"
      ]
     },
     "execution_count": 107,
     "metadata": {},
     "output_type": "execute_result"
    }
   ],
   "source": [
    "len(fields), fields[0:10]\n"
   ]
  },
  {
   "cell_type": "code",
   "execution_count": 108,
   "metadata": {},
   "outputs": [
    {
     "data": {
      "text/plain": [
       "True"
      ]
     },
     "execution_count": 108,
     "metadata": {},
     "output_type": "execute_result"
    }
   ],
   "source": [
    "len(total) == len(fields) == len(newest) == len(\n",
    "    oldest) == len(view) == len(likes)\n"
   ]
  },
  {
   "cell_type": "code",
   "execution_count": 119,
   "metadata": {},
   "outputs": [
    {
     "data": {
      "text/plain": [
       "['仍在更新',\n",
       " '停更风险',\n",
       " '仍在更新',\n",
       " '仍在更新',\n",
       " '仍在更新',\n",
       " '更新缓慢',\n",
       " '仍在更新',\n",
       " '仍在更新',\n",
       " '仍在更新',\n",
       " '仍在更新']"
      ]
     },
     "execution_count": 119,
     "metadata": {},
     "output_type": "execute_result"
    }
   ],
   "source": [
    "from datetime import datetime\n",
    "update = []\n",
    "for up in newest:\n",
    "    date = datetime.strptime(up, '%Y-%m-%d')\n",
    "    days = (datetime.now() - date).days\n",
    "    if days > 365:\n",
    "        update.append('停更')\n",
    "    elif days > 30 * 6:\n",
    "        update.append('停更风险')\n",
    "    elif days > 30 * 3:\n",
    "        update.append('暂时停更')\n",
    "    elif days > 30:\n",
    "        update.append('更新缓慢')\n",
    "    else:\n",
    "        update.append('仍在更新')\n",
    "update[0:10]\n"
   ]
  },
  {
   "cell_type": "code",
   "execution_count": 120,
   "metadata": {},
   "outputs": [
    {
     "data": {
      "text/html": [
       "<div>\n",
       "<style scoped>\n",
       "    .dataframe tbody tr th:only-of-type {\n",
       "        vertical-align: middle;\n",
       "    }\n",
       "\n",
       "    .dataframe tbody tr th {\n",
       "        vertical-align: top;\n",
       "    }\n",
       "\n",
       "    .dataframe thead th {\n",
       "        text-align: right;\n",
       "    }\n",
       "</style>\n",
       "<table border=\"1\" class=\"dataframe\">\n",
       "  <thead>\n",
       "    <tr style=\"text-align: right;\">\n",
       "      <th></th>\n",
       "      <th>视频总数</th>\n",
       "      <th>总播放量</th>\n",
       "      <th>总获赞数</th>\n",
       "      <th>分区</th>\n",
       "      <th>最早视频</th>\n",
       "      <th>最新视频</th>\n",
       "      <th>更新状态</th>\n",
       "    </tr>\n",
       "  </thead>\n",
       "  <tbody>\n",
       "    <tr>\n",
       "      <th>0</th>\n",
       "      <td>30</td>\n",
       "      <td>12865058</td>\n",
       "      <td>723059</td>\n",
       "      <td>生活</td>\n",
       "      <td>2022-06-21</td>\n",
       "      <td>2022-12-04</td>\n",
       "      <td>仍在更新</td>\n",
       "    </tr>\n",
       "    <tr>\n",
       "      <th>1</th>\n",
       "      <td>2</td>\n",
       "      <td>10</td>\n",
       "      <td>10</td>\n",
       "      <td>生活</td>\n",
       "      <td>2022-06-07</td>\n",
       "      <td>2022-06-07</td>\n",
       "      <td>停更风险</td>\n",
       "    </tr>\n",
       "    <tr>\n",
       "      <th>2</th>\n",
       "      <td>94</td>\n",
       "      <td>2470178</td>\n",
       "      <td>137713</td>\n",
       "      <td>知识</td>\n",
       "      <td>2018-02-27</td>\n",
       "      <td>2022-12-09</td>\n",
       "      <td>仍在更新</td>\n",
       "    </tr>\n",
       "    <tr>\n",
       "      <th>3</th>\n",
       "      <td>4</td>\n",
       "      <td>724358</td>\n",
       "      <td>35531</td>\n",
       "      <td>生活</td>\n",
       "      <td>2022-10-23</td>\n",
       "      <td>2022-12-04</td>\n",
       "      <td>仍在更新</td>\n",
       "    </tr>\n",
       "    <tr>\n",
       "      <th>4</th>\n",
       "      <td>14</td>\n",
       "      <td>16251</td>\n",
       "      <td>746</td>\n",
       "      <td>科技</td>\n",
       "      <td>2022-11-29</td>\n",
       "      <td>2022-12-13</td>\n",
       "      <td>仍在更新</td>\n",
       "    </tr>\n",
       "  </tbody>\n",
       "</table>\n",
       "</div>"
      ],
      "text/plain": [
       "   视频总数      总播放量    总获赞数  分区        最早视频        最新视频  更新状态\n",
       "0    30  12865058  723059  生活  2022-06-21  2022-12-04  仍在更新\n",
       "1     2        10      10  生活  2022-06-07  2022-06-07  停更风险\n",
       "2    94   2470178  137713  知识  2018-02-27  2022-12-09  仍在更新\n",
       "3     4    724358   35531  生活  2022-10-23  2022-12-04  仍在更新\n",
       "4    14     16251     746  科技  2022-11-29  2022-12-13  仍在更新"
      ]
     },
     "execution_count": 120,
     "metadata": {},
     "output_type": "execute_result"
    }
   ],
   "source": [
    "addition = pd.DataFrame({'视频总数': total,\n",
    "                         '总播放量': view,\n",
    "                         '总获赞数': likes,\n",
    "                         '分区': fields,\n",
    "                         '最早视频': oldest,\n",
    "                         '最新视频': newest,\n",
    "                         '更新状态': update})\n",
    "addition.head()\n"
   ]
  },
  {
   "cell_type": "code",
   "execution_count": 122,
   "metadata": {},
   "outputs": [
    {
     "data": {
      "text/html": [
       "<div>\n",
       "<style scoped>\n",
       "    .dataframe tbody tr th:only-of-type {\n",
       "        vertical-align: middle;\n",
       "    }\n",
       "\n",
       "    .dataframe tbody tr th {\n",
       "        vertical-align: top;\n",
       "    }\n",
       "\n",
       "    .dataframe thead th {\n",
       "        text-align: right;\n",
       "    }\n",
       "</style>\n",
       "<table border=\"1\" class=\"dataframe\">\n",
       "  <thead>\n",
       "    <tr style=\"text-align: right;\">\n",
       "      <th></th>\n",
       "      <th>名称</th>\n",
       "      <th>UID</th>\n",
       "      <th>关注时间</th>\n",
       "      <th>特别关注</th>\n",
       "      <th>头像链接</th>\n",
       "      <th>粉丝数</th>\n",
       "      <th>主页</th>\n",
       "      <th>视频总数</th>\n",
       "      <th>总播放量</th>\n",
       "      <th>总获赞数</th>\n",
       "      <th>分区</th>\n",
       "      <th>最早视频</th>\n",
       "      <th>最新视频</th>\n",
       "      <th>更新状态</th>\n",
       "    </tr>\n",
       "  </thead>\n",
       "  <tbody>\n",
       "    <tr>\n",
       "      <th>0</th>\n",
       "      <td>-小拉-</td>\n",
       "      <td>41759</td>\n",
       "      <td>2022-12-08</td>\n",
       "      <td>否</td>\n",
       "      <td>https://i2.hdslb.com/bfs/face/ce83957d60ce9800...</td>\n",
       "      <td>286680</td>\n",
       "      <td>https://space.bilibili.com/41759</td>\n",
       "      <td>30</td>\n",
       "      <td>12865058</td>\n",
       "      <td>723059</td>\n",
       "      <td>生活</td>\n",
       "      <td>2022-06-21</td>\n",
       "      <td>2022-12-04</td>\n",
       "      <td>仍在更新</td>\n",
       "    </tr>\n",
       "    <tr>\n",
       "      <th>1</th>\n",
       "      <td>Biloneness</td>\n",
       "      <td>399763875</td>\n",
       "      <td>2022-12-07</td>\n",
       "      <td>否</td>\n",
       "      <td>http://i0.hdslb.com/bfs/face/70e5621d3ca80fe1e...</td>\n",
       "      <td>12</td>\n",
       "      <td>https://space.bilibili.com/399763875</td>\n",
       "      <td>2</td>\n",
       "      <td>10</td>\n",
       "      <td>10</td>\n",
       "      <td>生活</td>\n",
       "      <td>2022-06-07</td>\n",
       "      <td>2022-06-07</td>\n",
       "      <td>停更风险</td>\n",
       "    </tr>\n",
       "    <tr>\n",
       "      <th>2</th>\n",
       "      <td>无极恋画</td>\n",
       "      <td>102541434</td>\n",
       "      <td>2022-12-06</td>\n",
       "      <td>否</td>\n",
       "      <td>https://i0.hdslb.com/bfs/face/8297704cd928e35a...</td>\n",
       "      <td>86914</td>\n",
       "      <td>https://space.bilibili.com/102541434</td>\n",
       "      <td>94</td>\n",
       "      <td>2470178</td>\n",
       "      <td>137713</td>\n",
       "      <td>知识</td>\n",
       "      <td>2018-02-27</td>\n",
       "      <td>2022-12-09</td>\n",
       "      <td>仍在更新</td>\n",
       "    </tr>\n",
       "    <tr>\n",
       "      <th>3</th>\n",
       "      <td>修理铺韩师傅</td>\n",
       "      <td>381801980</td>\n",
       "      <td>2022-12-06</td>\n",
       "      <td>否</td>\n",
       "      <td>https://i2.hdslb.com/bfs/face/6dcffadade0fd367...</td>\n",
       "      <td>13897</td>\n",
       "      <td>https://space.bilibili.com/381801980</td>\n",
       "      <td>4</td>\n",
       "      <td>724358</td>\n",
       "      <td>35531</td>\n",
       "      <td>生活</td>\n",
       "      <td>2022-10-23</td>\n",
       "      <td>2022-12-04</td>\n",
       "      <td>仍在更新</td>\n",
       "    </tr>\n",
       "    <tr>\n",
       "      <th>4</th>\n",
       "      <td>VitoShen涤非</td>\n",
       "      <td>3493075427002798</td>\n",
       "      <td>2022-12-06</td>\n",
       "      <td>是</td>\n",
       "      <td>https://i1.hdslb.com/bfs/face/e8c393b710c5bd1c...</td>\n",
       "      <td>639</td>\n",
       "      <td>https://space.bilibili.com/3493075427002798</td>\n",
       "      <td>14</td>\n",
       "      <td>16251</td>\n",
       "      <td>746</td>\n",
       "      <td>科技</td>\n",
       "      <td>2022-11-29</td>\n",
       "      <td>2022-12-13</td>\n",
       "      <td>仍在更新</td>\n",
       "    </tr>\n",
       "  </tbody>\n",
       "</table>\n",
       "</div>"
      ],
      "text/plain": [
       "           名称               UID        关注时间 特别关注  \\\n",
       "0        -小拉-             41759  2022-12-08    否   \n",
       "1  Biloneness         399763875  2022-12-07    否   \n",
       "2        无极恋画         102541434  2022-12-06    否   \n",
       "3      修理铺韩师傅         381801980  2022-12-06    否   \n",
       "4  VitoShen涤非  3493075427002798  2022-12-06    是   \n",
       "\n",
       "                                                头像链接     粉丝数  \\\n",
       "0  https://i2.hdslb.com/bfs/face/ce83957d60ce9800...  286680   \n",
       "1  http://i0.hdslb.com/bfs/face/70e5621d3ca80fe1e...      12   \n",
       "2  https://i0.hdslb.com/bfs/face/8297704cd928e35a...   86914   \n",
       "3  https://i2.hdslb.com/bfs/face/6dcffadade0fd367...   13897   \n",
       "4  https://i1.hdslb.com/bfs/face/e8c393b710c5bd1c...     639   \n",
       "\n",
       "                                            主页  视频总数      总播放量    总获赞数  分区  \\\n",
       "0             https://space.bilibili.com/41759    30  12865058  723059  生活   \n",
       "1         https://space.bilibili.com/399763875     2        10      10  生活   \n",
       "2         https://space.bilibili.com/102541434    94   2470178  137713  知识   \n",
       "3         https://space.bilibili.com/381801980     4    724358   35531  生活   \n",
       "4  https://space.bilibili.com/3493075427002798    14     16251     746  科技   \n",
       "\n",
       "         最早视频        最新视频  更新状态  \n",
       "0  2022-06-21  2022-12-04  仍在更新  \n",
       "1  2022-06-07  2022-06-07  停更风险  \n",
       "2  2018-02-27  2022-12-09  仍在更新  \n",
       "3  2022-10-23  2022-12-04  仍在更新  \n",
       "4  2022-11-29  2022-12-13  仍在更新  "
      ]
     },
     "execution_count": 122,
     "metadata": {},
     "output_type": "execute_result"
    }
   ],
   "source": [
    "df_new = pd.concat([df, addition], axis=1)\n",
    "df_new.head()\n"
   ]
  },
  {
   "cell_type": "code",
   "execution_count": 123,
   "metadata": {},
   "outputs": [],
   "source": [
    "df_new['UID'] = df_new['UID'].astype(str)\n",
    "df_new.to_excel('following-whole-info.xlsx')\n",
    "df_new.to_csv('following-whole-info.csv')\n"
   ]
  }
 ],
 "metadata": {
  "kernelspec": {
   "display_name": "base",
   "language": "python",
   "name": "python3"
  },
  "language_info": {
   "codemirror_mode": {
    "name": "ipython",
    "version": 3
   },
   "file_extension": ".py",
   "mimetype": "text/x-python",
   "name": "python",
   "nbconvert_exporter": "python",
   "pygments_lexer": "ipython3",
   "version": "3.8.10"
  },
  "orig_nbformat": 4,
  "vscode": {
   "interpreter": {
    "hash": "205329d70d8b0adec7a60b133e8ace2c15b184f0945086327eda5948f641f23f"
   }
  }
 },
 "nbformat": 4,
 "nbformat_minor": 2
}
