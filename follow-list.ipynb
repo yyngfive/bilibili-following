{
 "cells": [
  {
   "cell_type": "code",
   "execution_count": 1,
   "metadata": {},
   "outputs": [],
   "source": [
    "from login import Login\n",
    "import requests\n",
    "import json\n",
    "from typing import List\n",
    "import time\n",
    "import random\n",
    "\n",
    "headers = {\n",
    "    'User-Agent': 'Mozilla/5.0 (Windows NT 10.0; Win64; x64) AppleWebKit/537.36 (KHTML, like Gecko) Chrome/107.0.0.0 Safari/ 537.36 Edg/107.0.1418.62'\n",
    "}\n"
   ]
  },
  {
   "cell_type": "code",
   "execution_count": 3,
   "metadata": {},
   "outputs": [
    {
     "name": "stdout",
     "output_type": "stream",
     "text": [
      "█████████████████████████████████████████████████████\n",
      "█████████████████████████████████████████████████████\n",
      "████ ▄▄▄▄▄ ██▄▄█ ▀██ ▄█ ▄█ ██▀ █ ▄  ▀▀█▀▄█ ▄▄▄▄▄ ████\n",
      "████ █   █ ██ █▄ ▄▄▄▄▀▄▀▀  ▄  ▀██▀▄ ▄▀█ ▀█ █   █ ████\n",
      "████ █▄▄▄█ █▀█▀███▀█  ▀▀ ▄▄▄ █▄ ▀█ ▀ ▄▄▄▄█ █▄▄▄█ ████\n",
      "████▄▄▄▄▄▄▄█▄▀▄▀ ▀▄▀▄▀ ▀ █▄█ ▀ ▀▄█▄█ ▀ █▄█▄▄▄▄▄▄▄████\n",
      "████▄▀█▄█▄▄▀▄▄ █ ▄ ▀▀▀█▄  ▄ ▄██▄▄█▄▄▀█▄▄█ █▄▀███▀████\n",
      "████▀ ▀▄▄ ▄▄█▀█▄▄ ▄██ █▀  █▀▄▄█▀ ▄█▄█▀▄▄█▀▀█▀▄▄▀ ████\n",
      "████▄█ █ █▄▄██ ▀ █  █▀ ▄▄▄█▄▀██ ▄ ▄▄ ▄▀▄██▄▀▄██▀▀████\n",
      "████ ▄  ▀▀▄▄█ ▄ ▀█ ▄▀▀ █▄█▀▄▄▀▄  ▀█▀▀▄▀▀▄█▄  ▄▄▀▀████\n",
      "██████ █ ▄▄█   ▄▄▀▄▀ ▄ ▀▀▀▀▄ █▀▄█▀█▀ ▄▄ █▄▀████▀▄████\n",
      "████  █▄█▀▄▄▀ ▀▄▀▀▄█ ▄ ▀█  ▄ ██▀█▄▀█ █▀▄▀ ██▄▀▄ ▄████\n",
      "████ ▄ ▀ ▄▄▄ ▀█ ██▀▄█▄ █ ▄▄▄ █▄▄ ██▄█▀██ ▄▄▄ ███ ████\n",
      "████▄▄▀█ █▄█    █▄ ▄ ▀▄█ █▄█  █ ▀█▀ █ ▄█ █▄█ ▀▄  ████\n",
      "████▄▀▀ ▄ ▄▄ ▄██ ██  █▄▀  ▄ ▄ ▄ ▄ ▄  ▄ ▄▄▄▄▄ ▄▀█▀████\n",
      "█████▀███▄▄▀ ▄▄▄ █ ▄██▄█▄ ▀▄██ ▀ ▀▀▄  █▄  ▀▀▄█▄ █████\n",
      "████ ▀█ █ ▄█▄▀▄ █▀▄▄▀█▄ ▄█▀▄ █▀█▀ ▄█▄▄▄▀▄ █▄▄▀██▄████\n",
      "████ ▄▄█ █▄██  █▄  ▄ ▄█  ▀▀ █▄█▄▄██ ▀▄▀█ █ ▀  ▄▀ ████\n",
      "████▄▀ █▄█▄█▀ ▄█▀█▄▄█▀▀▄▀█ █  ▄▀▄ ▄▄▀█▄ ▄▄ ████ ▀████\n",
      "█████▀▀▀ █▄█▀█▄▀ ▄█▄ ██▄ ██▀███▀▀▀▀▄▄▀▄▀▄█▄█▄▄█▀ ████\n",
      "████▄██▄▄█▄█▀█▄▀▀ ▄▀█  █ ▄▄▄  █▄▄█▄▀ ▀▀█ ▄▄▄ ▄██▀████\n",
      "████ ▄▄▄▄▄ █▀▀▀▀█▄▀  █▀▄ █▄█ ▀▄ ▀▄▀▄█ ██ █▄█ ▄▄▄▀████\n",
      "████ █   █ █▀ ▀▄▄   ▀▀█▄▄ ▄ ▄▄▀ ▀▄▄█ ▄▄    ▄ ▄███████\n",
      "████ █▄▄▄█ ██▀▀ ▀▄  ▄▄▄▄▀▄▄  ██▄█ █▄  ▀█▄ ▄█ ▄▄▄▄████\n",
      "████▄▄▄▄▄▄▄█▄▄█▄██▄▄▄█▄▄████▄▄▄█▄▄█▄██▄▄▄▄▄▄███▄█████\n",
      "█████████████████████████████████████████████████████\n",
      "▀▀▀▀▀▀▀▀▀▀▀▀▀▀▀▀▀▀▀▀▀▀▀▀▀▀▀▀▀▀▀▀▀▀▀▀▀▀▀▀▀▀▀▀▀▀▀▀▀▀▀▀▀\n",
      "登录成功\n"
     ]
    }
   ],
   "source": [
    "\n",
    "# Login\n",
    "\n",
    "login = Login()\n",
    "url, token = login.apply_QR_code()\n",
    "login.generate_QR_code(url)\n",
    "input('已扫码')\n",
    "bilibili_session = requests.Session()\n",
    "code = login.do_web_login(bilibili_session, token)\n",
    "if code == 0:\n",
    "    print('登录成功')\n",
    "elif code == 86038:\n",
    "    print('二维码失效')\n",
    "elif code == 86090 or code == 86101:\n",
    "    print('请扫码并确认')\n",
    "else:\n",
    "    print(f'错误，code:{code}')\n"
   ]
  },
  {
   "cell_type": "code",
   "execution_count": 4,
   "metadata": {},
   "outputs": [],
   "source": [
    "# Get mid\n",
    "\n",
    "def get_mid(session: requests.Session) -> int:\n",
    "    res = bilibili_session.get(\n",
    "        url='https://api.bilibili.com/nav', headers=headers)\n",
    "    res = json.loads(res.text)\n",
    "    data = res['data']\n",
    "    return data['mid']\n"
   ]
  },
  {
   "cell_type": "code",
   "execution_count": 9,
   "metadata": {},
   "outputs": [],
   "source": [
    "# Get the total number of followings\n",
    "\n",
    "def get_total_follow(session: requests.Session) -> int:\n",
    "    mid = get_mid(session)\n",
    "    res = session.get(url='https://api.bilibili.com/x/relation/followings',\n",
    "                      headers=headers,\n",
    "                      params={'vmid': mid})\n",
    "    data = json.loads(res.text)['data']\n",
    "    return data['total']\n",
    "\n",
    "# Get following list\n",
    "\n",
    "\n",
    "def get_follow_list(session: requests.Session, page: int = 1) -> List[dict]:\n",
    "    mid = get_mid(session)\n",
    "    res = session.get(url='https://api.bilibili.com/x/relation/followings',\n",
    "                      headers=headers,\n",
    "                      params={'vmid': mid, 'pn': page, 'ps': 50})\n",
    "    data = json.loads(res.text)['data']\n",
    "    return data['list']\n"
   ]
  },
  {
   "cell_type": "code",
   "execution_count": 11,
   "metadata": {},
   "outputs": [
    {
     "name": "stdout",
     "output_type": "stream",
     "text": [
      "830\n",
      "1 50\n",
      "2 50\n",
      "3 50\n",
      "4 50\n",
      "5 50\n",
      "6 50\n",
      "7 50\n",
      "8 50\n",
      "9 50\n",
      "10 50\n",
      "11 50\n",
      "12 50\n",
      "13 50\n",
      "14 50\n",
      "15 50\n",
      "16 50\n",
      "17 30\n",
      "830\n"
     ]
    }
   ],
   "source": [
    "total = get_total_follow(bilibili_session)\n",
    "print(total)\n",
    "follow_list = []\n",
    "for page in range(1, total // 51 + 2): #I get the data using 50, but there will be a bug if the total number is 800 or 850\n",
    "    time.sleep(random.randint(1, 3))\n",
    "    ups = get_follow_list(bilibili_session, page)\n",
    "    print(page, len(ups))\n",
    "    follow_list.extend(ups)\n",
    "print(len(follow_list))\n"
   ]
  },
  {
   "cell_type": "code",
   "execution_count": 1,
   "metadata": {},
   "outputs": [],
   "source": [
    "# Save results\n",
    "\n",
    "with open('following.json','w') as f:\n",
    "    f.write(json.dumps(follow_list))"
   ]
  }
 ],
 "metadata": {
  "kernelspec": {
   "display_name": "Python 3.8.10 ('base')",
   "language": "python",
   "name": "python3"
  },
  "language_info": {
   "codemirror_mode": {
    "name": "ipython",
    "version": 3
   },
   "file_extension": ".py",
   "mimetype": "text/x-python",
   "name": "python",
   "nbconvert_exporter": "python",
   "pygments_lexer": "ipython3",
   "version": "3.8.10 (default, May 19 2021, 13:12:57) [MSC v.1916 64 bit (AMD64)]"
  },
  "orig_nbformat": 4,
  "vscode": {
   "interpreter": {
    "hash": "205329d70d8b0adec7a60b133e8ace2c15b184f0945086327eda5948f641f23f"
   }
  }
 },
 "nbformat": 4,
 "nbformat_minor": 2
}
