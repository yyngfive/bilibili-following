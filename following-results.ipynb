{
 "cells": [
  {
   "cell_type": "code",
   "execution_count": 2,
   "metadata": {},
   "outputs": [],
   "source": [
    "import requests\n",
    "import json\n",
    "from typing import List\n",
    "import time\n",
    "import random\n"
   ]
  },
  {
   "cell_type": "code",
   "execution_count": 3,
   "metadata": {},
   "outputs": [],
   "source": [
    "headers = {\n",
    "    'User-Agent': 'Mozilla/5.0 (Windows NT 10.0; Win64; x64) AppleWebKit/537.36 (KHTML, like Gecko) Chrome/107.0.0.0 Safari/ 537.36 Edg/107.0.1418.62'\n",
    "}\n"
   ]
  },
  {
   "cell_type": "code",
   "execution_count": 4,
   "metadata": {},
   "outputs": [
    {
     "data": {
      "text/plain": [
       "830"
      ]
     },
     "execution_count": 4,
     "metadata": {},
     "output_type": "execute_result"
    }
   ],
   "source": [
    "with open('following.json', 'r') as f:\n",
    "    following_list = json.loads(f.read())\n",
    "len(following_list)\n"
   ]
  },
  {
   "cell_type": "code",
   "execution_count": 5,
   "metadata": {},
   "outputs": [
    {
     "data": {
      "text/plain": [
       "dict_keys(['mid', 'attribute', 'mtime', 'tag', 'special', 'contract_info', 'uname', 'face', 'sign', 'face_nft', 'official_verify', 'vip', 'nft_icon', 'rec_reason'])"
      ]
     },
     "execution_count": 5,
     "metadata": {},
     "output_type": "execute_result"
    }
   ],
   "source": [
    "following_list[0].keys()"
   ]
  },
  {
   "cell_type": "code",
   "execution_count": 6,
   "metadata": {},
   "outputs": [],
   "source": [
    "def get_fans(mid: int) -> int:\n",
    "    res = requests.get(url='https://api.bilibili.com/x/relation/stat',\n",
    "                       headers=headers, params={'vmid': mid})\n",
    "    res = json.loads(res.text)\n",
    "    data = res['data']\n",
    "    return data['follower']\n"
   ]
  },
  {
   "cell_type": "code",
   "execution_count": 8,
   "metadata": {},
   "outputs": [
    {
     "data": {
      "text/plain": [
       "{'name': '无极恋画',\n",
       " 'uid': 102541434,\n",
       " 'time': '2022-12-06',\n",
       " 'special': '否',\n",
       " 'face': 'https://i0.hdslb.com/bfs/face/8297704cd928e35a91ac7c98ab02a98e8d2ef3c6.jpg',\n",
       " 'fans': 87690}"
      ]
     },
     "execution_count": 8,
     "metadata": {},
     "output_type": "execute_result"
    }
   ],
   "source": [
    "# level:\n",
    "# 0: all\n",
    "# 1: basic\n",
    "# 2: few\n",
    "def get_UP_info(following_data: dict, level: int = 0)->dict:\n",
    "    info = {\n",
    "        'name': following_data['uname'],\n",
    "        'uid': following_data['mid'],\n",
    "        'time': time.strftime('%Y-%m-%d', time.localtime(following_data['mtime'])),\n",
    "        'special': '否' if following_data['special'] == 0 else '是',\n",
    "        'face': following_data['face'],\n",
    "        'fans': get_fans(following_data['mid'])\n",
    "    }\n",
    "    return info\n",
    "get_UP_info(following_list[2])\n",
    "    "
   ]
  },
  {
   "cell_type": "code",
   "execution_count": 9,
   "metadata": {},
   "outputs": [],
   "source": [
    "import pandas as pd\n"
   ]
  },
  {
   "cell_type": "code",
   "execution_count": 10,
   "metadata": {},
   "outputs": [
    {
     "data": {
      "text/html": [
       "<div>\n",
       "<style scoped>\n",
       "    .dataframe tbody tr th:only-of-type {\n",
       "        vertical-align: middle;\n",
       "    }\n",
       "\n",
       "    .dataframe tbody tr th {\n",
       "        vertical-align: top;\n",
       "    }\n",
       "\n",
       "    .dataframe thead th {\n",
       "        text-align: right;\n",
       "    }\n",
       "</style>\n",
       "<table border=\"1\" class=\"dataframe\">\n",
       "  <thead>\n",
       "    <tr style=\"text-align: right;\">\n",
       "      <th></th>\n",
       "      <th>名称</th>\n",
       "      <th>UID</th>\n",
       "      <th>关注时间</th>\n",
       "      <th>特别关注</th>\n",
       "      <th>头像链接</th>\n",
       "      <th>粉丝数</th>\n",
       "    </tr>\n",
       "  </thead>\n",
       "  <tbody>\n",
       "  </tbody>\n",
       "</table>\n",
       "</div>"
      ],
      "text/plain": [
       "Empty DataFrame\n",
       "Columns: [名称, UID, 关注时间, 特别关注, 头像链接, 粉丝数]\n",
       "Index: []"
      ]
     },
     "execution_count": 10,
     "metadata": {},
     "output_type": "execute_result"
    }
   ],
   "source": [
    "df = pd.DataFrame({'名称': [],\n",
    "                   'UID': [],\n",
    "                   '关注时间': [],\n",
    "                   '特别关注': [],\n",
    "                   '头像链接': [],\n",
    "                   '粉丝数': []})\n",
    "df\n"
   ]
  },
  {
   "cell_type": "code",
   "execution_count": 15,
   "metadata": {},
   "outputs": [
    {
     "data": {
      "text/plain": [
       "'1.4.3'"
      ]
     },
     "execution_count": 15,
     "metadata": {},
     "output_type": "execute_result"
    }
   ],
   "source": [
    "from tqdm import tqdm\n",
    "pd.__version__"
   ]
  },
  {
   "cell_type": "code",
   "execution_count": 13,
   "metadata": {},
   "outputs": [
    {
     "name": "stderr",
     "output_type": "stream",
     "text": [
      "100%|██████████| 10/10 [00:23<00:00,  2.32s/it]\n"
     ]
    },
    {
     "data": {
      "text/html": [
       "<div>\n",
       "<style scoped>\n",
       "    .dataframe tbody tr th:only-of-type {\n",
       "        vertical-align: middle;\n",
       "    }\n",
       "\n",
       "    .dataframe tbody tr th {\n",
       "        vertical-align: top;\n",
       "    }\n",
       "\n",
       "    .dataframe thead th {\n",
       "        text-align: right;\n",
       "    }\n",
       "</style>\n",
       "<table border=\"1\" class=\"dataframe\">\n",
       "  <thead>\n",
       "    <tr style=\"text-align: right;\">\n",
       "      <th></th>\n",
       "      <th>名称</th>\n",
       "      <th>UID</th>\n",
       "      <th>关注时间</th>\n",
       "      <th>特别关注</th>\n",
       "      <th>头像链接</th>\n",
       "      <th>粉丝数</th>\n",
       "    </tr>\n",
       "  </thead>\n",
       "  <tbody>\n",
       "    <tr>\n",
       "      <th>0</th>\n",
       "      <td>-小拉-</td>\n",
       "      <td>41759</td>\n",
       "      <td>2022-12-08</td>\n",
       "      <td>否</td>\n",
       "      <td>https://i2.hdslb.com/bfs/face/ce83957d60ce9800...</td>\n",
       "      <td>290972</td>\n",
       "    </tr>\n",
       "    <tr>\n",
       "      <th>1</th>\n",
       "      <td>Biloneness</td>\n",
       "      <td>399763875</td>\n",
       "      <td>2022-12-07</td>\n",
       "      <td>否</td>\n",
       "      <td>http://i0.hdslb.com/bfs/face/70e5621d3ca80fe1e...</td>\n",
       "      <td>12</td>\n",
       "    </tr>\n",
       "    <tr>\n",
       "      <th>2</th>\n",
       "      <td>无极恋画</td>\n",
       "      <td>102541434</td>\n",
       "      <td>2022-12-06</td>\n",
       "      <td>否</td>\n",
       "      <td>https://i0.hdslb.com/bfs/face/8297704cd928e35a...</td>\n",
       "      <td>87690</td>\n",
       "    </tr>\n",
       "    <tr>\n",
       "      <th>3</th>\n",
       "      <td>修理铺韩师傅</td>\n",
       "      <td>381801980</td>\n",
       "      <td>2022-12-06</td>\n",
       "      <td>否</td>\n",
       "      <td>https://i2.hdslb.com/bfs/face/6dcffadade0fd367...</td>\n",
       "      <td>17503</td>\n",
       "    </tr>\n",
       "    <tr>\n",
       "      <th>4</th>\n",
       "      <td>VitoShen涤非</td>\n",
       "      <td>3493075427002798</td>\n",
       "      <td>2022-12-06</td>\n",
       "      <td>是</td>\n",
       "      <td>https://i1.hdslb.com/bfs/face/e8c393b710c5bd1c...</td>\n",
       "      <td>1297</td>\n",
       "    </tr>\n",
       "  </tbody>\n",
       "</table>\n",
       "</div>"
      ],
      "text/plain": [
       "           名称               UID        关注时间 特别关注  \\\n",
       "0        -小拉-             41759  2022-12-08    否   \n",
       "1  Biloneness         399763875  2022-12-07    否   \n",
       "2        无极恋画         102541434  2022-12-06    否   \n",
       "3      修理铺韩师傅         381801980  2022-12-06    否   \n",
       "4  VitoShen涤非  3493075427002798  2022-12-06    是   \n",
       "\n",
       "                                                头像链接     粉丝数  \n",
       "0  https://i2.hdslb.com/bfs/face/ce83957d60ce9800...  290972  \n",
       "1  http://i0.hdslb.com/bfs/face/70e5621d3ca80fe1e...      12  \n",
       "2  https://i0.hdslb.com/bfs/face/8297704cd928e35a...   87690  \n",
       "3  https://i2.hdslb.com/bfs/face/6dcffadade0fd367...   17503  \n",
       "4  https://i1.hdslb.com/bfs/face/e8c393b710c5bd1c...    1297  "
      ]
     },
     "execution_count": 13,
     "metadata": {},
     "output_type": "execute_result"
    }
   ],
   "source": [
    "for data in tqdm(following_list[0:10]):\n",
    "    time.sleep(random.randint(1, 3))\n",
    "    info = get_UP_info(data)\n",
    "    df.loc[len(df.index)] = info.values()\n",
    "df.head()\n"
   ]
  },
  {
   "cell_type": "code",
   "execution_count": 14,
   "metadata": {},
   "outputs": [
    {
     "data": {
      "text/html": [
       "<div>\n",
       "<style scoped>\n",
       "    .dataframe tbody tr th:only-of-type {\n",
       "        vertical-align: middle;\n",
       "    }\n",
       "\n",
       "    .dataframe tbody tr th {\n",
       "        vertical-align: top;\n",
       "    }\n",
       "\n",
       "    .dataframe thead th {\n",
       "        text-align: right;\n",
       "    }\n",
       "</style>\n",
       "<table border=\"1\" class=\"dataframe\">\n",
       "  <thead>\n",
       "    <tr style=\"text-align: right;\">\n",
       "      <th></th>\n",
       "      <th>名称</th>\n",
       "      <th>UID</th>\n",
       "      <th>关注时间</th>\n",
       "      <th>特别关注</th>\n",
       "      <th>头像链接</th>\n",
       "      <th>粉丝数</th>\n",
       "    </tr>\n",
       "  </thead>\n",
       "  <tbody>\n",
       "    <tr>\n",
       "      <th>0</th>\n",
       "      <td>-小拉-</td>\n",
       "      <td>41759</td>\n",
       "      <td>2022-12-08</td>\n",
       "      <td>否</td>\n",
       "      <td>https://i2.hdslb.com/bfs/face/ce83957d60ce9800...</td>\n",
       "      <td>290972</td>\n",
       "    </tr>\n",
       "    <tr>\n",
       "      <th>1</th>\n",
       "      <td>Biloneness</td>\n",
       "      <td>399763875</td>\n",
       "      <td>2022-12-07</td>\n",
       "      <td>否</td>\n",
       "      <td>http://i0.hdslb.com/bfs/face/70e5621d3ca80fe1e...</td>\n",
       "      <td>12</td>\n",
       "    </tr>\n",
       "    <tr>\n",
       "      <th>2</th>\n",
       "      <td>无极恋画</td>\n",
       "      <td>102541434</td>\n",
       "      <td>2022-12-06</td>\n",
       "      <td>否</td>\n",
       "      <td>https://i0.hdslb.com/bfs/face/8297704cd928e35a...</td>\n",
       "      <td>87690</td>\n",
       "    </tr>\n",
       "    <tr>\n",
       "      <th>3</th>\n",
       "      <td>修理铺韩师傅</td>\n",
       "      <td>381801980</td>\n",
       "      <td>2022-12-06</td>\n",
       "      <td>否</td>\n",
       "      <td>https://i2.hdslb.com/bfs/face/6dcffadade0fd367...</td>\n",
       "      <td>17503</td>\n",
       "    </tr>\n",
       "    <tr>\n",
       "      <th>4</th>\n",
       "      <td>VitoShen涤非</td>\n",
       "      <td>3493075427002798</td>\n",
       "      <td>2022-12-06</td>\n",
       "      <td>是</td>\n",
       "      <td>https://i1.hdslb.com/bfs/face/e8c393b710c5bd1c...</td>\n",
       "      <td>1297</td>\n",
       "    </tr>\n",
       "  </tbody>\n",
       "</table>\n",
       "</div>"
      ],
      "text/plain": [
       "           名称               UID        关注时间 特别关注  \\\n",
       "0        -小拉-             41759  2022-12-08    否   \n",
       "1  Biloneness         399763875  2022-12-07    否   \n",
       "2        无极恋画         102541434  2022-12-06    否   \n",
       "3      修理铺韩师傅         381801980  2022-12-06    否   \n",
       "4  VitoShen涤非  3493075427002798  2022-12-06    是   \n",
       "\n",
       "                                                头像链接     粉丝数  \n",
       "0  https://i2.hdslb.com/bfs/face/ce83957d60ce9800...  290972  \n",
       "1  http://i0.hdslb.com/bfs/face/70e5621d3ca80fe1e...      12  \n",
       "2  https://i0.hdslb.com/bfs/face/8297704cd928e35a...   87690  \n",
       "3  https://i2.hdslb.com/bfs/face/6dcffadade0fd367...   17503  \n",
       "4  https://i1.hdslb.com/bfs/face/e8c393b710c5bd1c...    1297  "
      ]
     },
     "execution_count": 14,
     "metadata": {},
     "output_type": "execute_result"
    }
   ],
   "source": [
    "df['UID'] = df['UID'].astype(str)\n",
    "df.head()\n"
   ]
  },
  {
   "cell_type": "code",
   "execution_count": 50,
   "metadata": {},
   "outputs": [
    {
     "data": {
      "text/html": [
       "<div>\n",
       "<style scoped>\n",
       "    .dataframe tbody tr th:only-of-type {\n",
       "        vertical-align: middle;\n",
       "    }\n",
       "\n",
       "    .dataframe tbody tr th {\n",
       "        vertical-align: top;\n",
       "    }\n",
       "\n",
       "    .dataframe thead th {\n",
       "        text-align: right;\n",
       "    }\n",
       "</style>\n",
       "<table border=\"1\" class=\"dataframe\">\n",
       "  <thead>\n",
       "    <tr style=\"text-align: right;\">\n",
       "      <th></th>\n",
       "      <th>名称</th>\n",
       "      <th>UID</th>\n",
       "      <th>关注时间</th>\n",
       "      <th>特别关注</th>\n",
       "      <th>头像链接</th>\n",
       "      <th>粉丝数</th>\n",
       "      <th>主页</th>\n",
       "    </tr>\n",
       "  </thead>\n",
       "  <tbody>\n",
       "    <tr>\n",
       "      <th>0</th>\n",
       "      <td>-小拉-</td>\n",
       "      <td>41759</td>\n",
       "      <td>2022-12-08</td>\n",
       "      <td>否</td>\n",
       "      <td>https://i2.hdslb.com/bfs/face/ce83957d60ce9800...</td>\n",
       "      <td>286680</td>\n",
       "      <td>https://space.bilibili.com/41759</td>\n",
       "    </tr>\n",
       "    <tr>\n",
       "      <th>1</th>\n",
       "      <td>Biloneness</td>\n",
       "      <td>399763875</td>\n",
       "      <td>2022-12-07</td>\n",
       "      <td>否</td>\n",
       "      <td>http://i0.hdslb.com/bfs/face/70e5621d3ca80fe1e...</td>\n",
       "      <td>12</td>\n",
       "      <td>https://space.bilibili.com/399763875</td>\n",
       "    </tr>\n",
       "    <tr>\n",
       "      <th>2</th>\n",
       "      <td>无极恋画</td>\n",
       "      <td>102541434</td>\n",
       "      <td>2022-12-06</td>\n",
       "      <td>否</td>\n",
       "      <td>https://i0.hdslb.com/bfs/face/8297704cd928e35a...</td>\n",
       "      <td>86914</td>\n",
       "      <td>https://space.bilibili.com/102541434</td>\n",
       "    </tr>\n",
       "    <tr>\n",
       "      <th>3</th>\n",
       "      <td>修理铺韩师傅</td>\n",
       "      <td>381801980</td>\n",
       "      <td>2022-12-06</td>\n",
       "      <td>否</td>\n",
       "      <td>https://i2.hdslb.com/bfs/face/6dcffadade0fd367...</td>\n",
       "      <td>13897</td>\n",
       "      <td>https://space.bilibili.com/381801980</td>\n",
       "    </tr>\n",
       "    <tr>\n",
       "      <th>4</th>\n",
       "      <td>VitoShen涤非</td>\n",
       "      <td>3493075427002798</td>\n",
       "      <td>2022-12-06</td>\n",
       "      <td>是</td>\n",
       "      <td>https://i1.hdslb.com/bfs/face/e8c393b710c5bd1c...</td>\n",
       "      <td>639</td>\n",
       "      <td>https://space.bilibili.com/3493075427002798</td>\n",
       "    </tr>\n",
       "  </tbody>\n",
       "</table>\n",
       "</div>"
      ],
      "text/plain": [
       "           名称               UID        关注时间 特别关注  \\\n",
       "0        -小拉-             41759  2022-12-08    否   \n",
       "1  Biloneness         399763875  2022-12-07    否   \n",
       "2        无极恋画         102541434  2022-12-06    否   \n",
       "3      修理铺韩师傅         381801980  2022-12-06    否   \n",
       "4  VitoShen涤非  3493075427002798  2022-12-06    是   \n",
       "\n",
       "                                                头像链接     粉丝数  \\\n",
       "0  https://i2.hdslb.com/bfs/face/ce83957d60ce9800...  286680   \n",
       "1  http://i0.hdslb.com/bfs/face/70e5621d3ca80fe1e...      12   \n",
       "2  https://i0.hdslb.com/bfs/face/8297704cd928e35a...   86914   \n",
       "3  https://i2.hdslb.com/bfs/face/6dcffadade0fd367...   13897   \n",
       "4  https://i1.hdslb.com/bfs/face/e8c393b710c5bd1c...     639   \n",
       "\n",
       "                                            主页  \n",
       "0             https://space.bilibili.com/41759  \n",
       "1         https://space.bilibili.com/399763875  \n",
       "2         https://space.bilibili.com/102541434  \n",
       "3         https://space.bilibili.com/381801980  \n",
       "4  https://space.bilibili.com/3493075427002798  "
      ]
     },
     "execution_count": 50,
     "metadata": {},
     "output_type": "execute_result"
    }
   ],
   "source": [
    "df['主页'] = 'https://space.bilibili.com/' + df['UID']\n",
    "df.head()\n"
   ]
  },
  {
   "cell_type": "code",
   "execution_count": 51,
   "metadata": {},
   "outputs": [],
   "source": [
    "df.to_excel('following-results.xlsx')\n",
    "df.to_csv('following-results.csv')\n"
   ]
  }
 ],
 "metadata": {
  "kernelspec": {
   "display_name": "base",
   "language": "python",
   "name": "python3"
  },
  "language_info": {
   "codemirror_mode": {
    "name": "ipython",
    "version": 3
   },
   "file_extension": ".py",
   "mimetype": "text/x-python",
   "name": "python",
   "nbconvert_exporter": "python",
   "pygments_lexer": "ipython3",
   "version": "3.8.10"
  },
  "orig_nbformat": 4,
  "vscode": {
   "interpreter": {
    "hash": "205329d70d8b0adec7a60b133e8ace2c15b184f0945086327eda5948f641f23f"
   }
  }
 },
 "nbformat": 4,
 "nbformat_minor": 2
}
