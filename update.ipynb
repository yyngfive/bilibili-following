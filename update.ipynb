{
 "cells": [
  {
   "cell_type": "code",
   "execution_count": 12,
   "metadata": {},
   "outputs": [],
   "source": [
    "import requests\n",
    "import json\n",
    "from typing import Tuple,List\n",
    "import time\n",
    "import datetime\n",
    "import random\n",
    "from login import Login\n",
    "import pandas as pd\n",
    "import tqdm\n",
    "\n",
    "headers = {\n",
    "    'User-Agent': 'Mozilla/5.0 (Windows NT 10.0; Win64; x64) AppleWebKit/537.36 (KHTML, like Gecko) Chrome/107.0.0.0 Safari/ 537.36 Edg/107.0.1418.62'\n",
    "}"
   ]
  },
  {
   "cell_type": "code",
   "execution_count": 4,
   "metadata": {},
   "outputs": [
    {
     "data": {
      "text/plain": [
       "830"
      ]
     },
     "execution_count": 4,
     "metadata": {},
     "output_type": "execute_result"
    }
   ],
   "source": [
    "with open('following.json', 'r') as f:\n",
    "    following_list = json.loads(f.read())\n",
    "len(following_list)"
   ]
  },
  {
   "cell_type": "code",
   "execution_count": 5,
   "metadata": {},
   "outputs": [],
   "source": [
    "def compare_following(old:list,new:list):\n",
    "    add = set(new).difference(set(old))\n",
    "    unfollow = set(old).difference(set(new))\n",
    "    return {'add':list(add),\n",
    "            'unfollow':list(unfollow)}"
   ]
  },
  {
   "cell_type": "code",
   "execution_count": 6,
   "metadata": {},
   "outputs": [],
   "source": [
    "def get_uid_list(following_list):\n",
    "    ups = [i['mid'] for i in following_list]\n",
    "    return ups"
   ]
  },
  {
   "cell_type": "code",
   "execution_count": 10,
   "metadata": {},
   "outputs": [],
   "source": [
    "def get_mid(session: requests.Session) -> int:\n",
    "    res = session.get(\n",
    "        url='https://api.bilibili.com/nav', headers=headers)\n",
    "    res = json.loads(res.text)\n",
    "    data = res['data']\n",
    "    return data['mid']"
   ]
  },
  {
   "cell_type": "code",
   "execution_count": 13,
   "metadata": {},
   "outputs": [],
   "source": [
    "# Get the total number of followings\n",
    "\n",
    "def get_total_follow(session: requests.Session) -> int:\n",
    "    mid = get_mid(session)\n",
    "    res = session.get(url='https://api.bilibili.com/x/relation/followings',\n",
    "                      headers=headers,\n",
    "                      params={'vmid': mid})\n",
    "    data = json.loads(res.text)['data']\n",
    "    return data['total']\n",
    "\n",
    "# Get following list\n",
    "\n",
    "\n",
    "def get_follow_list(session: requests.Session, page: int = 1) -> List[dict]:\n",
    "    mid = get_mid(session)\n",
    "    res = session.get(url='https://api.bilibili.com/x/relation/followings',\n",
    "                      headers=headers,\n",
    "                      params={'vmid': mid, 'pn': page, 'ps': 50})\n",
    "    data = json.loads(res.text)['data']\n",
    "    return data['list']"
   ]
  },
  {
   "cell_type": "code",
   "execution_count": 8,
   "metadata": {},
   "outputs": [
    {
     "name": "stdout",
     "output_type": "stream",
     "text": [
      "█████████████████████████████████████████████████████\n",
      "█████████████████████████████████████████████████████\n",
      "████ ▄▄▄▄▄ ███▀▀▄▀█▀▄▄▀ █▄█▀▀▄▀▄█ ▄  ██▀▄█ ▄▄▄▄▄ ████\n",
      "████ █   █ █ ▀▄▀▄ ▄▀▄█▀█▀▀▀▀▄▄▀▄▄▄ ▀▄▄█ ▀█ █   █ ████\n",
      "████ █▄▄▄█ █ ▄▀█▀ ▄   █▄ ▄▄▄  ▀▀▀█▄█▄▀▄▄▄█ █▄▄▄█ ████\n",
      "████▄▄▄▄▄▄▄█ █ █▄▀▄█ █▄▀ █▄█ ▀ ▀ ▀ █ ▀▄█ █▄▄▄▄▄▄▄████\n",
      "████ █▄▄▄ ▄▀▀█▄▀     ▄▀  ▄▄▄ ▀███   ▀▄█▀▀█▄▄   ▀▀████\n",
      "████ █▄█▄ ▄ ▀ █ ██ ▄█ ▀▄█ ▄▀ ▀    ▀▀  ▄▄▀▄▄▄▀▄ ▄█████\n",
      "████▀█▀▄██▄▄▄▄██▄█▀▀ █▄▄██ ▄██▄▀▀█ ▄▀█▄ ▀██▄▀▀▀▀ ████\n",
      "██████ ▀ █▄ █▀█▀ ▄██ ▄▄▀▄▄ ▄ █▄▀▀▄▀█▀█ ▄ ▀▄ ▀▀ ██████\n",
      "████  ▄▀ ▄▄ █▀ ▄ ██▄▄▄▄▄█ ▀██▄█▀█▀▀▄██▄ ▀▀▄▄██▀▄▀████\n",
      "████▄ █▄ █▄ ▄ ▀ █▀██ ▄ ▀▄▀█ ▄▄▄ ▀ █▀▀ ▄ █ ▄▄▀   █████\n",
      "████▄ ▀  ▄▄▄  ██▀▀▀█▀▀▄▀ ▄▄▄ ▀▄█▀ ▀▀███  ▄▄▄ ▀▀▀ ████\n",
      "████ ▀▀▄ █▄█ ▀█ ▀▀█ █▀   █▄█ █ ▀▀██▄▀ ▄█ █▄█ ▀ ██████\n",
      "████ ▀ ▀ ▄▄▄▄▄▄███▄▀█▀ ▀   ▄  █▀▀▄  ▀██▀ ▄ ▄▄ ██ ████\n",
      "███████▄▄▀▄▀███▀▀█▀█▄  ▀▄▀ ▀▀▀  ▀▄▀  ▀▄▀▄▀▀ █  ▄█████\n",
      "████▄▀ ▀▀ ▄▄▄ ▄▀ ███▀█ █▀▄▀▄▄ ▄ ▀▄  ▀█▄▀ █ █▄▀▀ ▀████\n",
      "████ ▀█▄██▄▀▀▀█▄▄▄ ██ ▀ ▀▄▄▄▀▄▄▄▀ ▀  █▄▀▄█▀ █▄ ██████\n",
      "████▄█▄█▄▄▄▀▀▀█ █ ▀ ▄▄█ ▄▄▀ ▄ ▄▄▀█  ▀▄██   ▀▄▄▀█ ████\n",
      "█████▀▀▀ █▄ ▄█ ▀▄▀ ▀█ ▄▀ ▄█▄▀▀  ▀▀██▀▄▄▀  ▀███▀▄█████\n",
      "████▄██▄▄█▄█ ▀▄██ █▄▄ ▀█ ▄▄▄  ▄█▀▀ ▄▀▄▄▀ ▄▄▄  ▀█ ████\n",
      "████ ▄▄▄▄▄ █▀  ▄▀ ▀▄▀██  █▄█ █▄▀ ▀█ █ ▄  █▄█ ▀  ▀████\n",
      "████ █   █ █ ▀█  ██▀▀ █▀  ▄▄▄▀▄▀▀▄  ██▄▄▄▄▄▄ ▄▀  ████\n",
      "████ █▄▄▄█ █▄ ▄▄▀▄ ▀▀  ▄ █▀▄▄█▄█ ▄█▄▀▀▄▄▄ █▄█  ▄█████\n",
      "████▄▄▄▄▄▄▄█▄█▄▄█▄███▄▄▄█▄▄▄▄▄▄▄█▄▄▄█▄██▄▄▄█▄▄█▄█████\n",
      "█████████████████████████████████████████████████████\n",
      "▀▀▀▀▀▀▀▀▀▀▀▀▀▀▀▀▀▀▀▀▀▀▀▀▀▀▀▀▀▀▀▀▀▀▀▀▀▀▀▀▀▀▀▀▀▀▀▀▀▀▀▀▀\n",
      "登录成功\n"
     ]
    }
   ],
   "source": [
    "login = Login()\n",
    "url, token = login.apply_QR_code()\n",
    "login.generate_QR_code(url)\n",
    "input('已扫码')\n",
    "bilibili_session = requests.Session()\n",
    "code = login.do_web_login(bilibili_session, token)\n",
    "if code == 0:\n",
    "    print('登录成功')\n",
    "elif code == 86038:\n",
    "    print('二维码失效')\n",
    "elif code == 86090 or code == 86101:\n",
    "    print('请扫码并确认')\n",
    "else:\n",
    "    print(f'错误，code:{code}')"
   ]
  },
  {
   "cell_type": "code",
   "execution_count": 14,
   "metadata": {},
   "outputs": [
    {
     "name": "stdout",
     "output_type": "stream",
     "text": [
      "850\n",
      "1 50\n",
      "2 50\n",
      "3 50\n",
      "4 50\n",
      "5 50\n",
      "6 50\n",
      "7 50\n",
      "8 50\n",
      "9 50\n",
      "10 50\n",
      "11 50\n",
      "12 50\n",
      "13 50\n",
      "14 50\n",
      "15 50\n",
      "16 50\n",
      "17 50\n",
      "850\n"
     ]
    }
   ],
   "source": [
    "total = get_total_follow(bilibili_session)\n",
    "print(total)\n",
    "following_list_new = []\n",
    "for page in range(1, total // 51 + 2):\n",
    "    time.sleep(random.randint(1, 3))\n",
    "    ups = get_follow_list(bilibili_session, page)\n",
    "    print(page, len(ups))\n",
    "    following_list_new.extend(ups)\n",
    "print(len(following_list_new))"
   ]
  },
  {
   "cell_type": "code",
   "execution_count": 17,
   "metadata": {},
   "outputs": [
    {
     "data": {
      "text/plain": [
       "[690112648,\n",
       " 516413836,\n",
       " 478904588,\n",
       " 1314329237,\n",
       " 38421915,\n",
       " 690545051,\n",
       " 294081438,\n",
       " 595298729,\n",
       " 46508980,\n",
       " 3461582812088629,\n",
       " 286187082,\n",
       " 12995787,\n",
       " 1607984338,\n",
       " 410904791,\n",
       " 477745885,\n",
       " 310362975,\n",
       " 241378147,\n",
       " 1787553002,\n",
       " 417264380,\n",
       " 9048063]"
      ]
     },
     "execution_count": 17,
     "metadata": {},
     "output_type": "execute_result"
    }
   ],
   "source": [
    "diff = compare_following(get_uid_list(following_list),get_uid_list(following_list_new))\n",
    "diff['add']"
   ]
  },
  {
   "cell_type": "code",
   "execution_count": null,
   "metadata": {},
   "outputs": [],
   "source": []
  }
 ],
 "metadata": {
  "kernelspec": {
   "display_name": "base",
   "language": "python",
   "name": "python3"
  },
  "language_info": {
   "codemirror_mode": {
    "name": "ipython",
    "version": 3
   },
   "file_extension": ".py",
   "mimetype": "text/x-python",
   "name": "python",
   "nbconvert_exporter": "python",
   "pygments_lexer": "ipython3",
   "version": "3.8.10"
  },
  "orig_nbformat": 4,
  "vscode": {
   "interpreter": {
    "hash": "205329d70d8b0adec7a60b133e8ace2c15b184f0945086327eda5948f641f23f"
   }
  }
 },
 "nbformat": 4,
 "nbformat_minor": 2
}
