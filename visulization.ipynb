{
 "cells": [
  {
   "cell_type": "code",
   "execution_count": 70,
   "metadata": {},
   "outputs": [],
   "source": [
    "import pandas as pd\n",
    "import seaborn as sns\n",
    "import numpy as np\n",
    "import matplotlib.pyplot as plt\n",
    "from icecream import ic"
   ]
  },
  {
   "cell_type": "code",
   "execution_count": 193,
   "metadata": {},
   "outputs": [],
   "source": [
    "plt.rcParams['font.sans-serif'] = ['SimHei']\n",
    "plt.rcParams['axes.unicode_minus'] = False\n",
    "plt.style.use('ggplot')\n",
    "DPI = 300\n",
    "#TODO: 添加标题、图例等细节\n",
    "#TODO: 字体、颜色美化"
   ]
  },
  {
   "cell_type": "code",
   "execution_count": 204,
   "metadata": {},
   "outputs": [
    {
     "data": {
      "text/html": [
       "<div>\n",
       "<style scoped>\n",
       "    .dataframe tbody tr th:only-of-type {\n",
       "        vertical-align: middle;\n",
       "    }\n",
       "\n",
       "    .dataframe tbody tr th {\n",
       "        vertical-align: top;\n",
       "    }\n",
       "\n",
       "    .dataframe thead th {\n",
       "        text-align: right;\n",
       "    }\n",
       "</style>\n",
       "<table border=\"1\" class=\"dataframe\">\n",
       "  <thead>\n",
       "    <tr style=\"text-align: right;\">\n",
       "      <th></th>\n",
       "      <th>no</th>\n",
       "      <th>name</th>\n",
       "      <th>time</th>\n",
       "      <th>special</th>\n",
       "      <th>face</th>\n",
       "      <th>fans</th>\n",
       "      <th>total</th>\n",
       "      <th>view</th>\n",
       "      <th>likes</th>\n",
       "      <th>type</th>\n",
       "      <th>field</th>\n",
       "      <th>first</th>\n",
       "      <th>newest</th>\n",
       "      <th>update</th>\n",
       "      <th>watch</th>\n",
       "    </tr>\n",
       "    <tr>\n",
       "      <th>UID</th>\n",
       "      <th></th>\n",
       "      <th></th>\n",
       "      <th></th>\n",
       "      <th></th>\n",
       "      <th></th>\n",
       "      <th></th>\n",
       "      <th></th>\n",
       "      <th></th>\n",
       "      <th></th>\n",
       "      <th></th>\n",
       "      <th></th>\n",
       "      <th></th>\n",
       "      <th></th>\n",
       "      <th></th>\n",
       "      <th></th>\n",
       "    </tr>\n",
       "  </thead>\n",
       "  <tbody>\n",
       "    <tr>\n",
       "      <th>41759</th>\n",
       "      <td>0</td>\n",
       "      <td>-小拉-</td>\n",
       "      <td>2022-12-08</td>\n",
       "      <td>否</td>\n",
       "      <td>https://i2.hdslb.com/bfs/face/ce83957d60ce9800...</td>\n",
       "      <td>286680</td>\n",
       "      <td>30</td>\n",
       "      <td>12865058</td>\n",
       "      <td>723059</td>\n",
       "      <td>综合,科技</td>\n",
       "      <td>生活</td>\n",
       "      <td>2022-06-21</td>\n",
       "      <td>2022-12-04</td>\n",
       "      <td>仍在更新</td>\n",
       "      <td>经常</td>\n",
       "    </tr>\n",
       "    <tr>\n",
       "      <th>399763875</th>\n",
       "      <td>1</td>\n",
       "      <td>Biloneness</td>\n",
       "      <td>2022-12-07</td>\n",
       "      <td>否</td>\n",
       "      <td>http://i0.hdslb.com/bfs/face/70e5621d3ca80fe1e...</td>\n",
       "      <td>12</td>\n",
       "      <td>2</td>\n",
       "      <td>10</td>\n",
       "      <td>10</td>\n",
       "      <td>同学</td>\n",
       "      <td>生活</td>\n",
       "      <td>2022-06-07</td>\n",
       "      <td>2022-06-07</td>\n",
       "      <td>停更风险</td>\n",
       "      <td>很少</td>\n",
       "    </tr>\n",
       "    <tr>\n",
       "      <th>102541434</th>\n",
       "      <td>2</td>\n",
       "      <td>无极恋画</td>\n",
       "      <td>2022-12-06</td>\n",
       "      <td>否</td>\n",
       "      <td>https://i0.hdslb.com/bfs/face/8297704cd928e35a...</td>\n",
       "      <td>86914</td>\n",
       "      <td>94</td>\n",
       "      <td>2470178</td>\n",
       "      <td>137713</td>\n",
       "      <td>知识,影视</td>\n",
       "      <td>知识</td>\n",
       "      <td>2018-02-27</td>\n",
       "      <td>2022-12-09</td>\n",
       "      <td>仍在更新</td>\n",
       "      <td>经常</td>\n",
       "    </tr>\n",
       "    <tr>\n",
       "      <th>381801980</th>\n",
       "      <td>3</td>\n",
       "      <td>修理铺韩师傅</td>\n",
       "      <td>2022-12-06</td>\n",
       "      <td>否</td>\n",
       "      <td>https://i2.hdslb.com/bfs/face/6dcffadade0fd367...</td>\n",
       "      <td>13897</td>\n",
       "      <td>4</td>\n",
       "      <td>724358</td>\n",
       "      <td>35531</td>\n",
       "      <td>手工,生活</td>\n",
       "      <td>生活</td>\n",
       "      <td>2022-10-23</td>\n",
       "      <td>2022-12-04</td>\n",
       "      <td>仍在更新</td>\n",
       "      <td>有时</td>\n",
       "    </tr>\n",
       "    <tr>\n",
       "      <th>3493075427002798</th>\n",
       "      <td>4</td>\n",
       "      <td>VitoShen涤非</td>\n",
       "      <td>2022-12-06</td>\n",
       "      <td>是</td>\n",
       "      <td>https://i1.hdslb.com/bfs/face/e8c393b710c5bd1c...</td>\n",
       "      <td>639</td>\n",
       "      <td>14</td>\n",
       "      <td>16251</td>\n",
       "      <td>746</td>\n",
       "      <td>知识,影视</td>\n",
       "      <td>科技</td>\n",
       "      <td>2022-11-29</td>\n",
       "      <td>2022-12-13</td>\n",
       "      <td>仍在更新</td>\n",
       "      <td>有时</td>\n",
       "    </tr>\n",
       "  </tbody>\n",
       "</table>\n",
       "</div>"
      ],
      "text/plain": [
       "                  no        name        time special  \\\n",
       "UID                                                    \n",
       "41759              0        -小拉-  2022-12-08       否   \n",
       "399763875          1  Biloneness  2022-12-07       否   \n",
       "102541434          2        无极恋画  2022-12-06       否   \n",
       "381801980          3      修理铺韩师傅  2022-12-06       否   \n",
       "3493075427002798   4  VitoShen涤非  2022-12-06       是   \n",
       "\n",
       "                                                               face    fans  \\\n",
       "UID                                                                           \n",
       "41759             https://i2.hdslb.com/bfs/face/ce83957d60ce9800...  286680   \n",
       "399763875         http://i0.hdslb.com/bfs/face/70e5621d3ca80fe1e...      12   \n",
       "102541434         https://i0.hdslb.com/bfs/face/8297704cd928e35a...   86914   \n",
       "381801980         https://i2.hdslb.com/bfs/face/6dcffadade0fd367...   13897   \n",
       "3493075427002798  https://i1.hdslb.com/bfs/face/e8c393b710c5bd1c...     639   \n",
       "\n",
       "                  total      view   likes   type field       first  \\\n",
       "UID                                                                  \n",
       "41759                30  12865058  723059  综合,科技    生活  2022-06-21   \n",
       "399763875             2        10      10     同学    生活  2022-06-07   \n",
       "102541434            94   2470178  137713  知识,影视    知识  2018-02-27   \n",
       "381801980             4    724358   35531  手工,生活    生活  2022-10-23   \n",
       "3493075427002798     14     16251     746  知识,影视    科技  2022-11-29   \n",
       "\n",
       "                      newest update watch  \n",
       "UID                                        \n",
       "41759             2022-12-04   仍在更新    经常  \n",
       "399763875         2022-06-07   停更风险    很少  \n",
       "102541434         2022-12-09   仍在更新    经常  \n",
       "381801980         2022-12-04   仍在更新    有时  \n",
       "3493075427002798  2022-12-13   仍在更新    有时  "
      ]
     },
     "execution_count": 204,
     "metadata": {},
     "output_type": "execute_result"
    }
   ],
   "source": [
    "df = pd.read_excel('UPs.xlsx',index_col=2)\n",
    "df.columns = ['no','name','time','special','face','fans','total','view','likes','type','field','first','newest','update','watch']\n",
    "df.head()"
   ]
  },
  {
   "attachments": {},
   "cell_type": "markdown",
   "metadata": {},
   "source": [
    "## 分区分析"
   ]
  },
  {
   "attachments": {},
   "cell_type": "markdown",
   "metadata": {},
   "source": [
    "### UP主分区"
   ]
  },
  {
   "attachments": {},
   "cell_type": "markdown",
   "metadata": {},
   "source": [
    "### 哪些UP主不只专注于一个分区？"
   ]
  },
  {
   "cell_type": "code",
   "execution_count": 147,
   "metadata": {},
   "outputs": [
    {
     "name": "stderr",
     "output_type": "stream",
     "text": [
      "ic| num_one: 769, num_two: 61\n"
     ]
    }
   ],
   "source": [
    "two_fields=[]\n",
    "for index,item in df['field'].iteritems():\n",
    "    if ',' in item:\n",
    "        two_fields.append(index)\n",
    "two_fields = df.loc[two_fields,:]\n",
    "num_two = len(two_fields)\n",
    "num_one = len(df) - num_two\n",
    "ic(num_one,num_two);"
   ]
  },
  {
   "cell_type": "code",
   "execution_count": 194,
   "metadata": {},
   "outputs": [
    {
     "data": {
      "image/png": "[encoded data removed]",
      "text/plain": [
       "<Figure size 432x288 with 1 Axes>"
      ]
     },
     "metadata": {},
     "output_type": "display_data"
    }
   ],
   "source": [
    "plt.figure()\n",
    "plt.title('多分区UP主占比')\n",
    "plt.pie([num_two,num_one],labels=['在两个分区发布视频','']);"
   ]
  },
  {
   "cell_type": "code",
   "execution_count": 165,
   "metadata": {},
   "outputs": [],
   "source": [
    "fans_levels = [\n",
    "    '0-100',\n",
    "    '100-1000',\n",
    "    '1000-1万',\n",
    "    '1万-10万',\n",
    "    '10万-100万',\n",
    "    '>100万'\n",
    "]\n",
    "def get_fans_level(number:int)->str:\n",
    "    if number > 1000000:\n",
    "        return fans_levels[5]\n",
    "    elif number > 100000:\n",
    "        return fans_levels[4]\n",
    "    elif number > 10000:\n",
    "        return fans_levels[3]\n",
    "    elif number > 1000:\n",
    "        return fans_levels[2]\n",
    "    elif number > 100:\n",
    "        return fans_levels[1]\n",
    "    else:\n",
    "        return fans_levels[0]"
   ]
  },
  {
   "cell_type": "code",
   "execution_count": 166,
   "metadata": {},
   "outputs": [],
   "source": [
    "two_fields['fans_level'] = two_fields['fans'].apply(get_fans_level)"
   ]
  },
  {
   "cell_type": "code",
   "execution_count": 160,
   "metadata": {},
   "outputs": [
    {
     "data": {
      "text/plain": [
       "fans_level\n",
       "0-100        3\n",
       "100-1000     3\n",
       "1000-1万      7\n",
       "10万-100万    19\n",
       "1万-10万      11\n",
       ">100万       18\n",
       "Name: fans, dtype: int64"
      ]
     },
     "execution_count": 160,
     "metadata": {},
     "output_type": "execute_result"
    }
   ],
   "source": [
    "two_fields.groupby('fans_level')['fans'].count()"
   ]
  },
  {
   "cell_type": "code",
   "execution_count": 175,
   "metadata": {},
   "outputs": [
    {
     "data": {
      "text/plain": [
       "0-100        3\n",
       "100-1000     3\n",
       "1000-1万      7\n",
       "1万-10万      11\n",
       "10万-100万    19\n",
       ">100万       18\n",
       "Name: fans_level, dtype: int64"
      ]
     },
     "execution_count": 175,
     "metadata": {},
     "output_type": "execute_result"
    }
   ],
   "source": [
    "level_count = two_fields['fans_level'].value_counts()[fans_levels]\n",
    "level_count"
   ]
  },
  {
   "cell_type": "code",
   "execution_count": 195,
   "metadata": {},
   "outputs": [
    {
     "data": {
      "image/png": "[encoded data removed]",
      "text/plain": [
       "<Figure size 432x288 with 1 Axes>"
      ]
     },
     "metadata": {},
     "output_type": "display_data"
    }
   ],
   "source": [
    "plt.figure()\n",
    "plt.bar(fans_levels,level_count);"
   ]
  },
  {
   "cell_type": "code",
   "execution_count": 202,
   "metadata": {},
   "outputs": [
    {
     "data": {
      "text/plain": [
       "UID\n",
       "5294454       生活,动画\n",
       "38899675      知识,动画\n",
       "623512391     生活,科技\n",
       "1950658       动画,音乐\n",
       "23079060      知识,科技\n",
       "476046509     生活,知识\n",
       "693447092     知识,科技\n",
       "365355167     科技,知识\n",
       "2200736       生活,科技\n",
       "397211154     知识,音乐\n",
       "254463269     知识,生活\n",
       "2026561407    生活,资讯\n",
       "5970160       游戏,生活\n",
       "250111460     生活,知识\n",
       "1526101       舞蹈,生活\n",
       "491979247     知识,动画\n",
       "493656793     舞蹈,生活\n",
       "476819048     生活,知识\n",
       "37781521      影视,知识\n",
       "481434238     知识,科技\n",
       "64840236      生活,音乐\n",
       "550601912     生活,知识\n",
       "54992199      知识,资讯\n",
       "503481919     知识,生活\n",
       "20259914      知识,科技\n",
       "348640514     生活,科技\n",
       "26366366      动画,生活\n",
       "489412051     音乐,娱乐\n",
       "33683045      知识,资讯\n",
       "5581898       知识,生活\n",
       "390371228     生活,知识\n",
       "7487399       动画,影视\n",
       "97469480      生活,知识\n",
       "1768861       游戏,生活\n",
       "185546        音乐,鬼畜\n",
       "64169458      知识,科技\n",
       "10783631      知识,游戏\n",
       "Name: field, dtype: object"
      ]
     },
     "execution_count": 202,
     "metadata": {},
     "output_type": "execute_result"
    }
   ],
   "source": [
    "two_fields.query('fans > 100000')['field']"
   ]
  },
  {
   "cell_type": "code",
   "execution_count": 198,
   "metadata": {},
   "outputs": [
    {
     "name": "stderr",
     "output_type": "stream",
     "text": [
      "ic| len(fields): 830\n"
     ]
    },
    {
     "data": {
      "image/png": "[encoded data removed]",
      "text/plain": [
       "<Figure size 432x288 with 1 Axes>"
      ]
     },
     "metadata": {},
     "output_type": "display_data"
    }
   ],
   "source": [
    "fields = []\n",
    "for index,item in df['field'].iteritems():\n",
    "    fields.append(item.split(',')[0])\n",
    "ic(len(fields))\n",
    "sns.histplot(fields);"
   ]
  },
  {
   "cell_type": "code",
   "execution_count": 199,
   "metadata": {},
   "outputs": [
    {
     "data": {
      "image/png": "[encoded data removed]",
      "text/plain": [
       "<Figure size 432x288 with 1 Axes>"
      ]
     },
     "metadata": {},
     "output_type": "display_data"
    }
   ],
   "source": [
    "\n",
    "from collections import Counter\n",
    "x = [i for i in Counter(fields).values()]\n",
    "labels = [i for i in Counter(fields).keys()]\n",
    "#plt.figure(figsize=(1000/300,1000/300),dpi=300)\n",
    "plt.pie(x,labels=labels);"
   ]
  }
 ],
 "metadata": {
  "kernelspec": {
   "display_name": "base",
   "language": "python",
   "name": "python3"
  },
  "language_info": {
   "codemirror_mode": {
    "name": "ipython",
    "version": 3
   },
   "file_extension": ".py",
   "mimetype": "text/x-python",
   "name": "python",
   "nbconvert_exporter": "python",
   "pygments_lexer": "ipython3",
   "version": "3.8.10"
  },
  "orig_nbformat": 4,
  "vscode": {
   "interpreter": {
    "hash": "205329d70d8b0adec7a60b133e8ace2c15b184f0945086327eda5948f641f23f"
   }
  }
 },
 "nbformat": 4,
 "nbformat_minor": 2
}
